{
  "nbformat": 4,
  "nbformat_minor": 0,
  "metadata": {
    "colab": {
      "provenance": [],
      "authorship_tag": "ABX9TyO71+X/Zf+vBL7mEDzQAFyt",
      "include_colab_link": true
    },
    "kernelspec": {
      "name": "python3",
      "display_name": "Python 3"
    },
    "language_info": {
      "name": "python"
    }
  },
  "cells": [
    {
      "cell_type": "markdown",
      "metadata": {
        "id": "view-in-github",
        "colab_type": "text"
      },
      "source": [
        "<a href=\"https://colab.research.google.com/github/ellerywuyn/LEAR-lab/blob/1-compare-existing-profanity-models/non_transformer_profanity.ipynb\" target=\"_parent\"><img src=\"https://colab.research.google.com/assets/colab-badge.svg\" alt=\"Open In Colab\"/></a>"
      ]
    },
    {
      "cell_type": "code",
      "source": [
        "# !pip install profanity-check\n",
        "# !pip install alt-profanity-check\n",
        "# !pip install profanity-filter"
      ],
      "metadata": {
        "id": "fkzBvhHYbC4j"
      },
      "execution_count": 22,
      "outputs": []
    },
    {
      "cell_type": "code",
      "source": [
        "!python -m spacy download en"
      ],
      "metadata": {
        "id": "WnbaVoM_fRfE"
      },
      "execution_count": null,
      "outputs": []
    },
    {
      "cell_type": "code",
      "execution_count": null,
      "metadata": {
        "id": "7B0q2Tgwa8OI"
      },
      "outputs": [],
      "source": [
        "# from profanity_check import predict, predict_prob"
      ]
    },
    {
      "cell_type": "code",
      "source": [
        "from profanity_filter import ProfanityFilter"
      ],
      "metadata": {
        "id": "EU3WrPnceeEN"
      },
      "execution_count": 15,
      "outputs": []
    },
    {
      "cell_type": "code",
      "source": [
        "pf = ProfanityFilter()\n",
        "pf.is_clean(\"That's awesome!\")\n",
        "pf.is_profane(\"That's awesome!\")\n",
        "pf.is_clean(\"I suck\")"
      ],
      "metadata": {
        "colab": {
          "base_uri": "https://localhost:8080/"
        },
        "id": "AgcVjtq5fAhP",
        "outputId": "bbc0888d-dd1b-4937-b551-c8b89dbd5375"
      },
      "execution_count": 21,
      "outputs": [
        {
          "output_type": "execute_result",
          "data": {
            "text/plain": [
              "True"
            ]
          },
          "metadata": {},
          "execution_count": 21
        }
      ]
    }
  ]
}