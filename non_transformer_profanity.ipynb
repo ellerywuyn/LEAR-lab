{
  "nbformat": 4,
  "nbformat_minor": 0,
  "metadata": {
    "colab": {
      "provenance": [],
      "authorship_tag": "ABX9TyO80g9Def6CS+zwsMUrfYEf",
      "include_colab_link": true
    },
    "kernelspec": {
      "name": "python3",
      "display_name": "Python 3"
    },
    "language_info": {
      "name": "python"
    }
  },
  "cells": [
    {
      "cell_type": "markdown",
      "metadata": {
        "id": "view-in-github",
        "colab_type": "text"
      },
      "source": [
        "<a href=\"https://colab.research.google.com/github/ellerywuyn/LEAR-lab/blob/1-compare-existing-profanity-models/non_transformer_profanity.ipynb\" target=\"_parent\"><img src=\"https://colab.research.google.com/assets/colab-badge.svg\" alt=\"Open In Colab\"/></a>"
      ]
    },
    {
      "cell_type": "code",
      "source": [
        "# !pip install profanity-check\n",
        "# !pip install alt-profanity-check\n",
        "!pip install profanity-filter\n",
        "import time"
      ],
      "metadata": {
        "id": "fkzBvhHYbC4j"
      },
      "execution_count": 25,
      "outputs": []
    },
    {
      "cell_type": "code",
      "source": [
        "!python -m spacy download en"
      ],
      "metadata": {
        "id": "WnbaVoM_fRfE"
      },
      "execution_count": null,
      "outputs": []
    },
    {
      "cell_type": "code",
      "execution_count": null,
      "metadata": {
        "id": "7B0q2Tgwa8OI"
      },
      "outputs": [],
      "source": [
        "# from profanity_check import predict, predict_prob"
      ]
    },
    {
      "cell_type": "code",
      "source": [
        "from profanity_filter import ProfanityFilter"
      ],
      "metadata": {
        "id": "EU3WrPnceeEN"
      },
      "execution_count": 15,
      "outputs": []
    },
    {
      "cell_type": "code",
      "source": [
        "pf = ProfanityFilter()\n",
        "pf.is_clean(\"That's awesome!\")\n",
        "pf.is_profane(\"That's awesome!\")\n",
        "pf.is_clean(\"You suck\")"
      ],
      "metadata": {
        "colab": {
          "base_uri": "https://localhost:8080/"
        },
        "id": "AgcVjtq5fAhP",
        "outputId": "2855cdb4-1160-4ad4-d49a-dffc8e1ecf0c"
      },
      "execution_count": 24,
      "outputs": [
        {
          "output_type": "execute_result",
          "data": {
            "text/plain": [
              "True"
            ]
          },
          "metadata": {},
          "execution_count": 24
        }
      ]
    },
    {
      "cell_type": "code",
      "source": [
        "# 235 words\n",
        "text = \"Economists see the real world as one in which people’s desires exceed what is possible – in other words, in terms of scarcity. \\\n",
        "Economic behavior involves tradeoffs in which individuals, firms, and society must forgo something that they desire to obtain things that they desire more.\\\n",
        "Individuals face the tradeoff of what quantities of goods and services to consume.\\\n",
        "The budget constraint, which is the frontier of the opportunity set, illustrates the range of available choices. The relative price of the choices determines the slope of the budget constraint. Choices beyond the budget constraint are not affordable.\\\n",
        "Opportunity cost measures cost by what we forgo in exchange for the goods and services we consume. Sometimes we can measure opportunity cost in money, but it is often useful to consider time as well, or to measure it in terms of the actual resources that we must forfeit.\\\n",
        "Most economic decisions and tradeoffs are not all-or-nothing. Instead, they involve marginal analysis, which means they are about decisions on the margin, involving a little more or a little less.\\\n",
        "The law of diminishing marginal utility points out that as a person receives more of something—whether it is a specific good or another resource—the additional marginal gains tend to become smaller.\\\n",
        "Because sunk costs occurred in the past and cannot be recovered, they should be disregarded in making current decisions.\"\n",
        "\n",
        "start_time = time.time()\n",
        "pf.is_clean(text)\n",
        "end_time = time.time()\n",
        "total_time = end_time - start_time\n",
        "print(\"total time:\", total_time)"
      ],
      "metadata": {
        "colab": {
          "base_uri": "https://localhost:8080/"
        },
        "id": "-K3iAcpQlH1c",
        "outputId": "54cea657-bc1f-41a1-86bc-d016ec01de05"
      },
      "execution_count": 26,
      "outputs": [
        {
          "output_type": "stream",
          "name": "stdout",
          "text": [
            "total time: 1.8665294647216797\n"
          ]
        }
      ]
    }
  ]
}